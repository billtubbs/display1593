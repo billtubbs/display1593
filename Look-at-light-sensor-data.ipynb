{
 "cells": [
  {
   "cell_type": "markdown",
   "metadata": {},
   "source": [
    "# Load and view light level data from lightlevels.py"
   ]
  },
  {
   "cell_type": "code",
   "execution_count": 1,
   "metadata": {},
   "outputs": [],
   "source": [
    "import numpy as np\n",
    "import pandas as pd\n",
    "import matplotlib.pyplot as plt\n",
    "\n",
    "%matplotlib inline"
   ]
  },
  {
   "cell_type": "code",
   "execution_count": 2,
   "metadata": {},
   "outputs": [
    {
     "data": {
      "text/plain": [
       "(149368, 2)"
      ]
     },
     "execution_count": 2,
     "metadata": {},
     "output_type": "execute_result"
    }
   ],
   "source": [
    "filename = \"lightlevels-2019-10-25.csv\"\n",
    "df = pd.read_csv(filename, header=None, names=['Datetime', 'Brightness', 'EWMA'])\n",
    "df['Datetime'] = pd.to_datetime(df['Datetime'])\n",
    "df = df.set_index('Datetime')\n",
    "df.shape"
   ]
  },
  {
   "cell_type": "code",
   "execution_count": 3,
   "metadata": {},
   "outputs": [],
   "source": [
    "df['Hour'] = df.index.hour\n",
    "df['Minute'] = df.index.minute\n",
    "df['Second'] = df.index.second"
   ]
  },
  {
   "cell_type": "code",
   "execution_count": 4,
   "metadata": {},
   "outputs": [],
   "source": [
    "import datetime\n",
    "\n",
    "def seconds_since_midnight(dt):\n",
    "    return datetime.timedelta(hours=dt.hour, minutes=dt.minute,\n",
    "                              seconds=dt.second).total_seconds()\n",
    "\n",
    "dt = pd.Timestamp('2019-10-25 23:26:59')\n",
    "assert seconds_since_midnight(dt) == (23*60 + 26)*60 + 59"
   ]
  },
  {
   "cell_type": "code",
   "execution_count": 5,
   "metadata": {},
   "outputs": [],
   "source": [
    "df['Time of day (hours)'] = df.index.map(seconds_since_midnight)/3600"
   ]
  },
  {
   "cell_type": "code",
   "execution_count": 6,
   "metadata": {},
   "outputs": [
    {
     "data": {
      "text/html": [
       "<div>\n",
       "<style scoped>\n",
       "    .dataframe tbody tr th:only-of-type {\n",
       "        vertical-align: middle;\n",
       "    }\n",
       "\n",
       "    .dataframe tbody tr th {\n",
       "        vertical-align: top;\n",
       "    }\n",
       "\n",
       "    .dataframe thead th {\n",
       "        text-align: right;\n",
       "    }\n",
       "</style>\n",
       "<table border=\"1\" class=\"dataframe\">\n",
       "  <thead>\n",
       "    <tr style=\"text-align: right;\">\n",
       "      <th></th>\n",
       "      <th>Brightness</th>\n",
       "      <th>EWMA</th>\n",
       "      <th>Hour</th>\n",
       "      <th>Minute</th>\n",
       "      <th>Second</th>\n",
       "      <th>Time of day (hours)</th>\n",
       "    </tr>\n",
       "    <tr>\n",
       "      <th>Datetime</th>\n",
       "      <th></th>\n",
       "      <th></th>\n",
       "      <th></th>\n",
       "      <th></th>\n",
       "      <th></th>\n",
       "      <th></th>\n",
       "    </tr>\n",
       "  </thead>\n",
       "  <tbody>\n",
       "    <tr>\n",
       "      <th>2019-10-25 23:26:55</th>\n",
       "      <td>8</td>\n",
       "      <td>8.90</td>\n",
       "      <td>23</td>\n",
       "      <td>26</td>\n",
       "      <td>55</td>\n",
       "      <td>23.448611</td>\n",
       "    </tr>\n",
       "    <tr>\n",
       "      <th>2019-10-25 23:26:56</th>\n",
       "      <td>9</td>\n",
       "      <td>8.91</td>\n",
       "      <td>23</td>\n",
       "      <td>26</td>\n",
       "      <td>56</td>\n",
       "      <td>23.448889</td>\n",
       "    </tr>\n",
       "    <tr>\n",
       "      <th>2019-10-25 23:26:57</th>\n",
       "      <td>9</td>\n",
       "      <td>8.92</td>\n",
       "      <td>23</td>\n",
       "      <td>26</td>\n",
       "      <td>57</td>\n",
       "      <td>23.449167</td>\n",
       "    </tr>\n",
       "    <tr>\n",
       "      <th>2019-10-25 23:26:58</th>\n",
       "      <td>8</td>\n",
       "      <td>8.83</td>\n",
       "      <td>23</td>\n",
       "      <td>26</td>\n",
       "      <td>58</td>\n",
       "      <td>23.449444</td>\n",
       "    </tr>\n",
       "    <tr>\n",
       "      <th>2019-10-25 23:26:59</th>\n",
       "      <td>8</td>\n",
       "      <td>8.74</td>\n",
       "      <td>23</td>\n",
       "      <td>26</td>\n",
       "      <td>59</td>\n",
       "      <td>23.449722</td>\n",
       "    </tr>\n",
       "  </tbody>\n",
       "</table>\n",
       "</div>"
      ],
      "text/plain": [
       "                     Brightness  EWMA  Hour  Minute  Second  \\\n",
       "Datetime                                                      \n",
       "2019-10-25 23:26:55           8  8.90    23      26      55   \n",
       "2019-10-25 23:26:56           9  8.91    23      26      56   \n",
       "2019-10-25 23:26:57           9  8.92    23      26      57   \n",
       "2019-10-25 23:26:58           8  8.83    23      26      58   \n",
       "2019-10-25 23:26:59           8  8.74    23      26      59   \n",
       "\n",
       "                     Time of day (hours)  \n",
       "Datetime                                  \n",
       "2019-10-25 23:26:55            23.448611  \n",
       "2019-10-25 23:26:56            23.448889  \n",
       "2019-10-25 23:26:57            23.449167  \n",
       "2019-10-25 23:26:58            23.449444  \n",
       "2019-10-25 23:26:59            23.449722  "
      ]
     },
     "execution_count": 6,
     "metadata": {},
     "output_type": "execute_result"
    }
   ],
   "source": [
    "df.head()"
   ]
  },
  {
   "cell_type": "code",
   "execution_count": 7,
   "metadata": {},
   "outputs": [
    {
     "data": {
      "image/png": "[encoded data removed]",
      "text/plain": [
       "<Figure size 576x288 with 1 Axes>"
      ]
     },
     "metadata": {
      "needs_background": "light"
     },
     "output_type": "display_data"
    }
   ],
   "source": [
    "dates = np.unique(df.index.date)\n",
    "\n",
    "plt.figure(figsize=(8,4))\n",
    "for day in dates:\n",
    "    data_for_day = df.loc[df.index.date == day, :]\n",
    "    data_for_day = data_for_day.set_index('Time of day (hours)')\n",
    "    data_for_day['EWMA'].plot(label=day)\n",
    "plt.grid()\n",
    "plt.legend()\n",
    "plt.show()"
   ]
  },
  {
   "cell_type": "code",
   "execution_count": 8,
   "metadata": {},
   "outputs": [
    {
     "data": {
      "text/html": [
       "<div>\n",
       "<style scoped>\n",
       "    .dataframe tbody tr th:only-of-type {\n",
       "        vertical-align: middle;\n",
       "    }\n",
       "\n",
       "    .dataframe tbody tr th {\n",
       "        vertical-align: top;\n",
       "    }\n",
       "\n",
       "    .dataframe thead th {\n",
       "        text-align: right;\n",
       "    }\n",
       "</style>\n",
       "<table border=\"1\" class=\"dataframe\">\n",
       "  <thead>\n",
       "    <tr style=\"text-align: right;\">\n",
       "      <th></th>\n",
       "      <th>Average</th>\n",
       "      <th>Median</th>\n",
       "    </tr>\n",
       "    <tr>\n",
       "      <th>Hour</th>\n",
       "      <th></th>\n",
       "      <th></th>\n",
       "    </tr>\n",
       "  </thead>\n",
       "  <tbody>\n",
       "    <tr>\n",
       "      <th>0</th>\n",
       "      <td>4.835404</td>\n",
       "      <td>5.025</td>\n",
       "    </tr>\n",
       "    <tr>\n",
       "      <th>1</th>\n",
       "      <td>4.485278</td>\n",
       "      <td>3.870</td>\n",
       "    </tr>\n",
       "    <tr>\n",
       "      <th>2</th>\n",
       "      <td>3.582515</td>\n",
       "      <td>3.560</td>\n",
       "    </tr>\n",
       "    <tr>\n",
       "      <th>3</th>\n",
       "      <td>3.589444</td>\n",
       "      <td>3.580</td>\n",
       "    </tr>\n",
       "    <tr>\n",
       "      <th>4</th>\n",
       "      <td>3.565768</td>\n",
       "      <td>3.560</td>\n",
       "    </tr>\n",
       "    <tr>\n",
       "      <th>5</th>\n",
       "      <td>3.586911</td>\n",
       "      <td>3.580</td>\n",
       "    </tr>\n",
       "    <tr>\n",
       "      <th>6</th>\n",
       "      <td>3.553137</td>\n",
       "      <td>3.550</td>\n",
       "    </tr>\n",
       "    <tr>\n",
       "      <th>7</th>\n",
       "      <td>3.771028</td>\n",
       "      <td>3.690</td>\n",
       "    </tr>\n",
       "    <tr>\n",
       "      <th>8</th>\n",
       "      <td>15.428772</td>\n",
       "      <td>13.905</td>\n",
       "    </tr>\n",
       "    <tr>\n",
       "      <th>9</th>\n",
       "      <td>93.933725</td>\n",
       "      <td>97.485</td>\n",
       "    </tr>\n",
       "    <tr>\n",
       "      <th>10</th>\n",
       "      <td>137.679406</td>\n",
       "      <td>138.520</td>\n",
       "    </tr>\n",
       "    <tr>\n",
       "      <th>11</th>\n",
       "      <td>95.806476</td>\n",
       "      <td>96.875</td>\n",
       "    </tr>\n",
       "    <tr>\n",
       "      <th>12</th>\n",
       "      <td>70.964875</td>\n",
       "      <td>70.330</td>\n",
       "    </tr>\n",
       "    <tr>\n",
       "      <th>13</th>\n",
       "      <td>84.961026</td>\n",
       "      <td>85.380</td>\n",
       "    </tr>\n",
       "    <tr>\n",
       "      <th>14</th>\n",
       "      <td>80.428836</td>\n",
       "      <td>81.140</td>\n",
       "    </tr>\n",
       "    <tr>\n",
       "      <th>15</th>\n",
       "      <td>69.646203</td>\n",
       "      <td>70.040</td>\n",
       "    </tr>\n",
       "    <tr>\n",
       "      <th>16</th>\n",
       "      <td>44.053146</td>\n",
       "      <td>43.920</td>\n",
       "    </tr>\n",
       "    <tr>\n",
       "      <th>17</th>\n",
       "      <td>11.419072</td>\n",
       "      <td>10.090</td>\n",
       "    </tr>\n",
       "    <tr>\n",
       "      <th>18</th>\n",
       "      <td>5.109511</td>\n",
       "      <td>5.270</td>\n",
       "    </tr>\n",
       "    <tr>\n",
       "      <th>19</th>\n",
       "      <td>5.973564</td>\n",
       "      <td>5.970</td>\n",
       "    </tr>\n",
       "    <tr>\n",
       "      <th>20</th>\n",
       "      <td>5.992406</td>\n",
       "      <td>5.990</td>\n",
       "    </tr>\n",
       "    <tr>\n",
       "      <th>21</th>\n",
       "      <td>6.040308</td>\n",
       "      <td>6.030</td>\n",
       "    </tr>\n",
       "    <tr>\n",
       "      <th>22</th>\n",
       "      <td>5.981511</td>\n",
       "      <td>5.970</td>\n",
       "    </tr>\n",
       "    <tr>\n",
       "      <th>23</th>\n",
       "      <td>6.972360</td>\n",
       "      <td>6.240</td>\n",
       "    </tr>\n",
       "  </tbody>\n",
       "</table>\n",
       "</div>"
      ],
      "text/plain": [
       "         Average   Median\n",
       "Hour                     \n",
       "0       4.835404    5.025\n",
       "1       4.485278    3.870\n",
       "2       3.582515    3.560\n",
       "3       3.589444    3.580\n",
       "4       3.565768    3.560\n",
       "5       3.586911    3.580\n",
       "6       3.553137    3.550\n",
       "7       3.771028    3.690\n",
       "8      15.428772   13.905\n",
       "9      93.933725   97.485\n",
       "10    137.679406  138.520\n",
       "11     95.806476   96.875\n",
       "12     70.964875   70.330\n",
       "13     84.961026   85.380\n",
       "14     80.428836   81.140\n",
       "15     69.646203   70.040\n",
       "16     44.053146   43.920\n",
       "17     11.419072   10.090\n",
       "18      5.109511    5.270\n",
       "19      5.973564    5.970\n",
       "20      5.992406    5.990\n",
       "21      6.040308    6.030\n",
       "22      5.981511    5.970\n",
       "23      6.972360    6.240"
      ]
     },
     "execution_count": 8,
     "metadata": {},
     "output_type": "execute_result"
    }
   ],
   "source": [
    "average_brightness_by_hour = \\\n",
    "    df.groupby('Hour')['EWMA'].mean().rename('Average')\n",
    "mode_brightness_by_hour = \\\n",
    "    df.groupby('Hour')['EWMA'].median().rename('Median')\n",
    "pd.concat([average_brightness_by_hour, mode_brightness_by_hour], axis=1)"
   ]
  },
  {
   "cell_type": "code",
   "execution_count": 9,
   "metadata": {},
   "outputs": [],
   "source": [
    "# 3.7 seems to be the threshold for nighttime (all lights off)\n",
    "b_min = 3.7"
   ]
  },
  {
   "cell_type": "code",
   "execution_count": 10,
   "metadata": {},
   "outputs": [
    {
     "data": {
      "text/plain": [
       "1.0"
      ]
     },
     "execution_count": 10,
     "metadata": {},
     "output_type": "execute_result"
    }
   ],
   "source": [
    "# Try an exponential scale\n",
    "np.exp(0)"
   ]
  },
  {
   "cell_type": "code",
   "execution_count": 11,
   "metadata": {},
   "outputs": [
    {
     "name": "stdout",
     "output_type": "stream",
     "text": [
      "0: 3.7,\n",
      "1: 10.0576,\n",
      "2: 27.3395,\n",
      "3: 74.3165,\n",
      "4: 202.013,\n",
      "5: 549.129,\n",
      "6: 1492.69,\n",
      "7: 4057.54,\n",
      "8: 11029.5,\n",
      "9: 29981.4,\n",
      "10: 81497.9,\n",
      "11: 221534,\n"
     ]
    },
    {
     "data": {
      "text/plain": [
       "[None, None, None, None, None, None, None, None, None, None, None, None]"
      ]
     },
     "execution_count": 11,
     "metadata": {},
     "output_type": "execute_result"
    }
   ],
   "source": [
    "# Assume the following map to brightness values\n",
    "[print(f'{i}: {b_min*np.exp(i):.6g},') for i in range(0, 12)]"
   ]
  },
  {
   "cell_type": "code",
   "execution_count": 12,
   "metadata": {},
   "outputs": [
    {
     "data": {
      "text/plain": [
       "array([[0.00000e+00, 3.70000e+00],\n",
       "       [1.00000e+00, 1.00576e+01],\n",
       "       [2.00000e+00, 2.73395e+01],\n",
       "       [3.00000e+00, 7.43165e+01],\n",
       "       [4.00000e+00, 2.02013e+02],\n",
       "       [5.00000e+00, 5.49129e+02],\n",
       "       [6.00000e+00, 1.49269e+03],\n",
       "       [7.00000e+00, 4.05754e+03],\n",
       "       [8.00000e+00, 1.10295e+04],\n",
       "       [9.00000e+00, 2.99814e+04],\n",
       "       [1.00000e+01, 8.14979e+04],\n",
       "       [1.10000e+01, 2.21534e+05]])"
      ]
     },
     "execution_count": 12,
     "metadata": {},
     "output_type": "execute_result"
    }
   ],
   "source": [
    "brightness_levels = {\n",
    "    0: 3.7,\n",
    "    1: 10.0576,\n",
    "    2: 27.3395,\n",
    "    3: 74.3165,\n",
    "    4: 202.013,\n",
    "    5: 549.129,\n",
    "    6: 1492.69,\n",
    "    7: 4057.54,\n",
    "    8: 11029.5,\n",
    "    9: 29981.4,\n",
    "    10: 81497.9,\n",
    "    11: 221534\n",
    "}\n",
    "\n",
    "brightness_levels = np.array(list(brightness_levels.items()))\n",
    "\n",
    "brightness_levels"
   ]
  },
  {
   "cell_type": "code",
   "execution_count": 13,
   "metadata": {},
   "outputs": [
    {
     "data": {
      "text/plain": [
       "2"
      ]
     },
     "execution_count": 13,
     "metadata": {},
     "output_type": "execute_result"
    }
   ],
   "source": [
    "brightness = 14\n",
    "np.argmax(brightness_levels[:, 1] > brightness)"
   ]
  },
  {
   "cell_type": "code",
   "execution_count": 14,
   "metadata": {},
   "outputs": [
    {
     "data": {
      "text/plain": [
       "0"
      ]
     },
     "execution_count": 14,
     "metadata": {},
     "output_type": "execute_result"
    }
   ],
   "source": [
    "def brightness_level(brightness):\n",
    "    if brightness > brightness_levels[:, 1].max():\n",
    "        level = brightness_levels[:, 0].max()\n",
    "    else:\n",
    "        idx = np.argmax(brightness_levels[:, 1] > brightness)\n",
    "        level = brightness_levels[idx, 0]\n",
    "    return int(level)\n",
    "\n",
    "brightness_level(0)"
   ]
  },
  {
   "cell_type": "code",
   "execution_count": 15,
   "metadata": {},
   "outputs": [
    {
     "data": {
      "text/plain": [
       "(0, 1)"
      ]
     },
     "execution_count": 15,
     "metadata": {},
     "output_type": "execute_result"
    }
   ],
   "source": [
    "brightness_level(3), brightness_level(4)"
   ]
  },
  {
   "cell_type": "code",
   "execution_count": 16,
   "metadata": {},
   "outputs": [
    {
     "data": {
      "text/plain": [
       "11"
      ]
     },
     "execution_count": 16,
     "metadata": {},
     "output_type": "execute_result"
    }
   ],
   "source": [
    "brightness_level(160000)"
   ]
  },
  {
   "cell_type": "code",
   "execution_count": 17,
   "metadata": {},
   "outputs": [
    {
     "data": {
      "text/plain": [
       "11"
      ]
     },
     "execution_count": 17,
     "metadata": {},
     "output_type": "execute_result"
    }
   ],
   "source": [
    "brightness_level(9999999)"
   ]
  },
  {
   "cell_type": "code",
   "execution_count": 18,
   "metadata": {},
   "outputs": [
    {
     "data": {
      "image/png": "[encoded data removed]",
      "text/plain": [
       "<Figure size 432x288 with 1 Axes>"
      ]
     },
     "metadata": {
      "needs_background": "light"
     },
     "output_type": "display_data"
    }
   ],
   "source": [
    "average_brightness_by_hour.plot.bar()\n",
    "plt.grid()\n",
    "plt.show()"
   ]
  },
  {
   "cell_type": "code",
   "execution_count": 19,
   "metadata": {},
   "outputs": [
    {
     "data": {
      "image/png": "[encoded data removed]",
      "text/plain": [
       "<Figure size 432x216 with 1 Axes>"
      ]
     },
     "metadata": {
      "needs_background": "light"
     },
     "output_type": "display_data"
    }
   ],
   "source": [
    "levels_by_hour = [\n",
    "    brightness_level(average_brightness_by_hour.loc[hour])\n",
    "    for hour in range(24)\n",
    "]\n",
    "pd.Series(levels_by_hour).plot.bar(figsize=(6,3))\n",
    "plt.grid()\n",
    "plt.show()"
   ]
  },
  {
   "cell_type": "code",
   "execution_count": null,
   "metadata": {},
   "outputs": [],
   "source": []
  },
  {
   "cell_type": "code",
   "execution_count": null,
   "metadata": {},
   "outputs": [],
   "source": []
  },
  {
   "cell_type": "code",
   "execution_count": null,
   "metadata": {},
   "outputs": [],
   "source": []
  }
 ],
 "metadata": {
  "kernelspec": {
   "display_name": "py36",
   "language": "python",
   "name": "py36"
  },
  "language_info": {
   "codemirror_mode": {
    "name": "ipython",
    "version": 3
   },
   "file_extension": ".py",
   "mimetype": "text/x-python",
   "name": "python",
   "nbconvert_exporter": "python",
   "pygments_lexer": "ipython3",
   "version": "3.7.1"
  }
 },
 "nbformat": 4,
 "nbformat_minor": 2
}
