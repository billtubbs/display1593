{
 "cells": [
  {
   "cell_type": "markdown",
   "metadata": {},
   "source": [
    "# Investigate display problem"
   ]
  },
  {
   "cell_type": "code",
   "execution_count": 1,
   "metadata": {},
   "outputs": [],
   "source": [
    "import os\n",
    "import numpy as np\n",
    "import matplotlib.pyplot as plt"
   ]
  },
  {
   "cell_type": "code",
   "execution_count": 2,
   "metadata": {},
   "outputs": [],
   "source": [
    "# Files:\n",
    "# cols0.csv  - true colours\n",
    "# cols.csv  - error starting at LED 42\n",
    "# cols2.csv  - error starting at LED 840\n",
    "\n",
    "cols0 = np.loadtxt('cols0.csv', delimiter=',')\n",
    "assert cols0.shape == (1593, 3)\n",
    "cols1 = np.loadtxt('cols1.csv', delimiter=',')\n",
    "assert cols1.shape == (1593, 3)\n",
    "cols2 = np.loadtxt('cols2.csv', delimiter=',')\n",
    "assert cols2.shape == (1593, 3)"
   ]
  },
  {
   "cell_type": "code",
   "execution_count": 3,
   "metadata": {},
   "outputs": [],
   "source": [
    "firstLedOfStrip = (\n",
    "    0, 100, 200, 298, 398, 498, 598, 698,\n",
    "    798, 897, 996, 1095, 1195, 1295, 1395, 1495, 1593\n",
    ")\n",
    "\n",
    "max_val = max(cols0.max(), cols1.max(), cols2.max())\n",
    "max_val = 48\n",
    "\n",
    "def reshape_colour_array(cols):\n",
    "    reshaped_data = np.full((16, 100, 3), np.nan)\n",
    "    for i in range(16):\n",
    "        f, l = firstLedOfStrip[i:i+2]\n",
    "        reshaped_data[i, :l-f, :] = cols[f:l] / (max_val + 1)\n",
    "    return reshaped_data"
   ]
  },
  {
   "cell_type": "code",
   "execution_count": 4,
   "metadata": {},
   "outputs": [
    {
     "name": "stderr",
     "output_type": "stream",
     "text": [
      "Clipping input data to the valid range for imshow with RGB data ([0..1] for floats or [0..255] for integers).\n",
      "Clipping input data to the valid range for imshow with RGB data ([0..1] for floats or [0..255] for integers).\n"
     ]
    },
    {
     "data": {
      "image/png": "[encoded data removed]",
      "text/plain": [
       "<Figure size 720x432 with 3 Axes>"
      ]
     },
     "metadata": {
      "needs_background": "light"
     },
     "output_type": "display_data"
    }
   ],
   "source": [
    "fig, axes = plt.subplots(3, 1, figsize=(10, 6))\n",
    "\n",
    "for i, data in enumerate([cols0, cols1, cols2]):\n",
    "    reshaped_data = reshape_colour_array(data)\n",
    "    axes[i].imshow(reshaped_data)\n",
    "\n",
    "plt.show()"
   ]
  },
  {
   "cell_type": "code",
   "execution_count": 5,
   "metadata": {},
   "outputs": [
    {
     "data": {
      "text/plain": [
       "array([[ 2.,  7.,  0.,  2.,  7.,  0.],\n",
       "       [ 1.,  9.,  0.,  1.,  9.,  0.],\n",
       "       [ 2.,  9.,  0.,  2.,  9.,  0.],\n",
       "       [ 2.,  8.,  1.,  2.,  8.,  1.],\n",
       "       [ 2., 18.,  4.,  2., 18.,  4.],\n",
       "       [ 2., 18.,  6.,  2., 18.,  6.],\n",
       "       [ 3., 15.,  3.,  3., 15.,  3.],\n",
       "       [ 2., 19.,  6.,  2., 19.,  6.],\n",
       "       [ 2., 17.,  6.,  2., 17.,  6.],\n",
       "       [ 3., 17.,  6.,  3., 17.,  6.]])"
      ]
     },
     "execution_count": 5,
     "metadata": {},
     "output_type": "execute_result"
    }
   ],
   "source": [
    "x = np.concatenate([cols0, cols1], axis=1)\n",
    "x[:10]"
   ]
  },
  {
   "cell_type": "code",
   "execution_count": 6,
   "metadata": {},
   "outputs": [
    {
     "data": {
      "text/plain": [
       "array([[  2.,  20.,   6.,   2.,  20.,   6.],\n",
       "       [  2.,  19.,   6.,   2.,  19.,   6.],\n",
       "       [  2.,  17.,   6.,   2.,  17.,   6.],\n",
       "       [  2.,  17.,   7.,   2.,  17.,   7.],\n",
       "       [  2.,  17.,   7.,   2., 255., 255.],\n",
       "       [  3.,  17.,   7.,  17.,   7.,   3.],\n",
       "       [  3.,  17.,   6.,  17.,   7.,   3.],\n",
       "       [  1.,   6.,   0.,  17.,   6.,   1.],\n",
       "       [  2.,   9.,   1.,   6.,   0.,   2.],\n",
       "       [  2.,   8.,   1.,   9.,   1.,   2.]])"
      ]
     },
     "execution_count": 6,
     "metadata": {},
     "output_type": "execute_result"
    }
   ],
   "source": [
    "x[38:48,:]"
   ]
  },
  {
   "cell_type": "code",
   "execution_count": 7,
   "metadata": {},
   "outputs": [],
   "source": [
    "# Rogue data consisting of 2 x 255 is being inserted into the colour data..."
   ]
  },
  {
   "cell_type": "code",
   "execution_count": 8,
   "metadata": {},
   "outputs": [
    {
     "data": {
      "text/plain": [
       "array([[  0.,   2.,   0.,   0.,   2.,   0.],\n",
       "       [  2.,   4.,   1.,   2.,   4.,   1.],\n",
       "       [  1.,   1.,   0.,   1.,   1.,   0.],\n",
       "       [  0.,   0.,   0.,   0.,   0.,   0.],\n",
       "       [  0.,   0.,   0.,   0., 255., 255.],\n",
       "       [  0.,   1.,   0.,   0.,   0.,   0.],\n",
       "       [  0.,   1.,   0.,   1.,   0.,   0.],\n",
       "       [  0.,   0.,   0.,   1.,   0.,   0.],\n",
       "       [  1.,   2.,   0.,   0.,   0.,   1.],\n",
       "       [  2.,   4.,   0.,   2.,   0.,   2.]])"
      ]
     },
     "execution_count": 8,
     "metadata": {},
     "output_type": "execute_result"
    }
   ],
   "source": [
    "x = np.concatenate([cols0, cols2], axis=1)\n",
    "x[798+38:798+48]"
   ]
  },
  {
   "cell_type": "code",
   "execution_count": 9,
   "metadata": {},
   "outputs": [],
   "source": [
    "# In both cases the rogue data occurs at the 42nd LED..."
   ]
  },
  {
   "cell_type": "code",
   "execution_count": null,
   "metadata": {},
   "outputs": [],
   "source": []
  }
 ],
 "metadata": {
  "kernelspec": {
   "display_name": "Python [conda env:torch]",
   "language": "python",
   "name": "conda-env-torch-py"
  },
  "language_info": {
   "codemirror_mode": {
    "name": "ipython",
    "version": 3
   },
   "file_extension": ".py",
   "mimetype": "text/x-python",
   "name": "python",
   "nbconvert_exporter": "python",
   "pygments_lexer": "ipython3",
   "version": "3.7.7"
  }
 },
 "nbformat": 4,
 "nbformat_minor": 2
}
